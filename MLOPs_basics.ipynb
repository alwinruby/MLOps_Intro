{
 "cells": [
  {
   "cell_type": "code",
   "execution_count": null,
   "id": "ddbeb8a9",
   "metadata": {},
   "outputs": [],
   "source": [
    "!python -V"
   ]
  },
  {
   "cell_type": "code",
   "execution_count": null,
   "id": "9dfa6699",
   "metadata": {},
   "outputs": [],
   "source": [
    "# pip install --upgrade pip"
   ]
  },
  {
   "cell_type": "code",
   "execution_count": null,
   "id": "9fc83cce",
   "metadata": {},
   "outputs": [],
   "source": [
    "# pip install Pillow"
   ]
  },
  {
   "cell_type": "code",
   "execution_count": null,
   "id": "89ad745a",
   "metadata": {},
   "outputs": [],
   "source": [
    "# pip install --upgrade Pillow"
   ]
  },
  {
   "cell_type": "code",
   "execution_count": null,
   "id": "21af4a80",
   "metadata": {},
   "outputs": [],
   "source": [
    "# pip install scikit-multilearn"
   ]
  },
  {
   "cell_type": "code",
   "execution_count": null,
   "id": "8f5749c7",
   "metadata": {},
   "outputs": [],
   "source": [
    "# !pip install nltk==3.7 -q"
   ]
  },
  {
   "cell_type": "code",
   "execution_count": null,
   "id": "0d77c41a",
   "metadata": {},
   "outputs": [],
   "source": [
    "# pip install wordcloud"
   ]
  },
  {
   "cell_type": "code",
   "execution_count": null,
   "id": "b9bdb578",
   "metadata": {},
   "outputs": [],
   "source": [
    "# !pip install nlpaug==1.1.0 transformers==3.0.2 -q\n",
    "# !pip install snorkel==0.9.8 -q"
   ]
  },
  {
   "cell_type": "code",
   "execution_count": null,
   "id": "b302d798",
   "metadata": {},
   "outputs": [],
   "source": [
    "# conda install -c makcedward nlpaug"
   ]
  },
  {
   "cell_type": "code",
   "execution_count": null,
   "id": "5e2fbb7e",
   "metadata": {},
   "outputs": [],
   "source": [
    "# import numpy\n",
    "# numpy.version.version"
   ]
  },
  {
   "cell_type": "code",
   "execution_count": null,
   "id": "4e1afe70",
   "metadata": {},
   "outputs": [],
   "source": [
    "# pip install numpy --upgrade"
   ]
  },
  {
   "cell_type": "code",
   "execution_count": null,
   "id": "f18cf262",
   "metadata": {},
   "outputs": [],
   "source": [
    "# numpy.version.version"
   ]
  },
  {
   "cell_type": "code",
   "execution_count": null,
   "id": "d7812aa8",
   "metadata": {},
   "outputs": [],
   "source": [
    "# conda update -n base -c defaults conda"
   ]
  },
  {
   "cell_type": "code",
   "execution_count": null,
   "id": "7b861191",
   "metadata": {},
   "outputs": [],
   "source": [
    "#!pip install nlpaug==1.1.0 transformers==3.0.2 -q"
   ]
  },
  {
   "cell_type": "code",
   "execution_count": null,
   "id": "bed16137",
   "metadata": {},
   "outputs": [],
   "source": [
    "#!pip install snorkel==0.9.8 -q"
   ]
  },
  {
   "cell_type": "code",
   "execution_count": null,
   "id": "4c1a09b2",
   "metadata": {},
   "outputs": [],
   "source": [
    "#import numpy\n",
    "#numpy.version.version"
   ]
  },
  {
   "cell_type": "code",
   "execution_count": null,
   "id": "0db6644e",
   "metadata": {},
   "outputs": [],
   "source": [
    "#pip install numpy --upgrade"
   ]
  },
  {
   "cell_type": "code",
   "execution_count": null,
   "id": "9f5c2ae1",
   "metadata": {},
   "outputs": [],
   "source": [
    "#import numpy\n",
    "# numpy.version.version"
   ]
  },
  {
   "cell_type": "code",
   "execution_count": null,
   "id": "9aee0c0f",
   "metadata": {},
   "outputs": [],
   "source": [
    "# numpy.version.version"
   ]
  },
  {
   "cell_type": "code",
   "execution_count": null,
   "id": "09279ede",
   "metadata": {},
   "outputs": [],
   "source": [
    "# pip install numpy --upgrade"
   ]
  },
  {
   "cell_type": "code",
   "execution_count": null,
   "id": "e8da98dc",
   "metadata": {},
   "outputs": [],
   "source": [
    "# numpy.version.version"
   ]
  },
  {
   "cell_type": "code",
   "execution_count": null,
   "id": "9e902644",
   "metadata": {},
   "outputs": [],
   "source": [
    "# pip install nlpaug==1.1.0 transformers==3.0.2 -q"
   ]
  },
  {
   "cell_type": "code",
   "execution_count": null,
   "id": "4f6f9c55",
   "metadata": {},
   "outputs": [],
   "source": [
    "#!pip install nlpaug==1.1.0 transformers==3.0.2 -q\n",
    "#!pip install snorkel==0.9.8 -q"
   ]
  },
  {
   "cell_type": "code",
   "execution_count": null,
   "id": "647f55b3",
   "metadata": {},
   "outputs": [],
   "source": [
    "# numpy.version.version"
   ]
  },
  {
   "cell_type": "code",
   "execution_count": null,
   "id": "0d1730be",
   "metadata": {},
   "outputs": [],
   "source": [
    "# pip install tensorflow==2.12.*"
   ]
  },
  {
   "cell_type": "code",
   "execution_count": null,
   "id": "d8d5b5f1",
   "metadata": {},
   "outputs": [],
   "source": [
    "# pip install tensorflow==2.10"
   ]
  },
  {
   "cell_type": "code",
   "execution_count": null,
   "id": "9dbcf245",
   "metadata": {},
   "outputs": [],
   "source": [
    "# pip install tensorboard==2.7.0"
   ]
  },
  {
   "cell_type": "code",
   "execution_count": null,
   "id": "d835fa51",
   "metadata": {},
   "outputs": [],
   "source": [
    "# numpy.version.version"
   ]
  },
  {
   "cell_type": "code",
   "execution_count": null,
   "id": "35acdc48",
   "metadata": {},
   "outputs": [],
   "source": [
    "# pip install torch"
   ]
  },
  {
   "cell_type": "code",
   "execution_count": null,
   "id": "00f27b8e",
   "metadata": {},
   "outputs": [],
   "source": [
    "# pip install transformers"
   ]
  },
  {
   "cell_type": "code",
   "execution_count": null,
   "id": "41927f89",
   "metadata": {},
   "outputs": [],
   "source": [
    "# !pip install imbalanced-learn==0.8.1 -q"
   ]
  },
  {
   "cell_type": "code",
   "execution_count": null,
   "id": "91996dce",
   "metadata": {},
   "outputs": [],
   "source": [
    "!python --version"
   ]
  },
  {
   "cell_type": "code",
   "execution_count": null,
   "id": "eb6ddce0",
   "metadata": {},
   "outputs": [],
   "source": []
  }
 ],
 "metadata": {
  "kernelspec": {
   "display_name": "Python 3 (ipykernel)",
   "language": "python",
   "name": "python3"
  },
  "language_info": {
   "codemirror_mode": {
    "name": "ipython",
    "version": 3
   },
   "file_extension": ".py",
   "mimetype": "text/x-python",
   "name": "python",
   "nbconvert_exporter": "python",
   "pygments_lexer": "ipython3",
   "version": "3.9.13"
  }
 },
 "nbformat": 4,
 "nbformat_minor": 5
}
